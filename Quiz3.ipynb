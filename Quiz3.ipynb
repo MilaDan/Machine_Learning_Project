{
 "cells": [
  {
   "cell_type": "code",
   "execution_count": null,
   "id": "094563ec",
   "metadata": {},
   "outputs": [],
   "source": [
    "#a\n",
    "[0-9]{3}"
   ]
  },
  {
   "cell_type": "code",
   "execution_count": null,
   "id": "c73cac63",
   "metadata": {},
   "outputs": [],
   "source": [
    "#b\n",
    "(\\d){5}"
   ]
  },
  {
   "cell_type": "code",
   "execution_count": null,
   "id": "3fafab72",
   "metadata": {},
   "outputs": [],
   "source": [
    "#c\n",
    "(\\d){5}-(\\d){4}"
   ]
  },
  {
   "cell_type": "code",
   "execution_count": null,
   "id": "4bc3eb1d",
   "metadata": {},
   "outputs": [],
   "source": [
    "#d\n",
    "(\\d){5}(-(\\d){4})?"
   ]
  },
  {
   "cell_type": "code",
   "execution_count": null,
   "id": "e1a2fb2c",
   "metadata": {},
   "outputs": [],
   "source": [
    "#e\n",
    "[A-Z]{4}"
   ]
  },
  {
   "cell_type": "code",
   "execution_count": null,
   "id": "e1b1c2bb",
   "metadata": {},
   "outputs": [],
   "source": [
    "#f\n",
    "([A-Z]|[a-z]){4}"
   ]
  },
  {
   "cell_type": "code",
   "execution_count": null,
   "id": "3034f1fa",
   "metadata": {},
   "outputs": [],
   "source": [
    "#g\n",
    "([A-Z]|[a-z]|[0-9]){4}"
   ]
  },
  {
   "cell_type": "code",
   "execution_count": null,
   "id": "1ab37a10",
   "metadata": {},
   "outputs": [],
   "source": [
    "#h\n",
    "[^A-Za-z]"
   ]
  },
  {
   "cell_type": "code",
   "execution_count": null,
   "id": "a605b2f4",
   "metadata": {},
   "outputs": [],
   "source": [
    "#i\n",
    "[^0-9]"
   ]
  },
  {
   "cell_type": "code",
   "execution_count": null,
   "id": "b429e025",
   "metadata": {},
   "outputs": [],
   "source": [
    "#j\n",
    "^[A-Z]"
   ]
  },
  {
   "cell_type": "code",
   "execution_count": null,
   "id": "02eead45",
   "metadata": {},
   "outputs": [],
   "source": [
    "#k\n",
    "^[A-Z]+[A-Z]$"
   ]
  },
  {
   "cell_type": "code",
   "execution_count": null,
   "id": "77619a70",
   "metadata": {},
   "outputs": [],
   "source": []
  }
 ],
 "metadata": {
  "kernelspec": {
   "display_name": "Python 3",
   "language": "python",
   "name": "python3"
  },
  "language_info": {
   "codemirror_mode": {
    "name": "ipython",
    "version": 3
   },
   "file_extension": ".py",
   "mimetype": "text/x-python",
   "name": "python",
   "nbconvert_exporter": "python",
   "pygments_lexer": "ipython3",
   "version": "3.8.8"
  }
 },
 "nbformat": 4,
 "nbformat_minor": 5
}
